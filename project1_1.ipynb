{
  "cells": [
    {
      "cell_type": "code",
      "execution_count": 16,
      "metadata": {
        "id": "2kJduWVpHef8"
      },
      "outputs": [],
      "source": [
        "import pandas as pd\n",
        "import numpy as np\n",
        "import matplotlib.pyplot as plt\n",
        "import seaborn as sns\n",
        "from scipy import stats\n",
        "import statsmodels.api as sm\n",
        "\n",
        "\n"
      ]
    },
    {
      "cell_type": "code",
      "execution_count": null,
      "metadata": {
        "colab": {
          "base_uri": "https://localhost:8080/",
          "height": 423
        },
        "id": "m5xDYtjuIIF9",
        "outputId": "45aee5b7-b60b-4a83-a98e-f680ff616a0d"
      },
      "outputs": [],
      "source": [
        "# Load the dataset\n",
        "df = pd.read_csv('Energy_ENB2012_data.csv')\n",
        "df\n",
        "\n"
      ]
    },
    {
      "cell_type": "code",
      "execution_count": null,
      "metadata": {
        "colab": {
          "base_uri": "https://localhost:8080/"
        },
        "id": "EAMqDzd_IHAF",
        "outputId": "8cada706-a2cc-4d22-d010-d18c52415b63"
      },
      "outputs": [],
      "source": [
        "# Display basic information\n",
        "print(\"Dataset Overview:\")\n",
        "print(df.info())\n",
        "print(df.head())\n",
        "\n"
      ]
    },
    {
      "cell_type": "code",
      "execution_count": null,
      "metadata": {
        "colab": {
          "base_uri": "https://localhost:8080/"
        },
        "id": "x8C6m3noIFdt",
        "outputId": "58f68c8a-eb0b-4edc-ed74-f74715450a88"
      },
      "outputs": [],
      "source": [
        "\n",
        "# Checking for missing values\n",
        "print(\"\\nMissing Values:\")\n",
        "print(df.isnull().sum())\n"
      ]
    },
    {
      "cell_type": "code",
      "execution_count": null,
      "metadata": {
        "colab": {
          "base_uri": "https://localhost:8080/"
        },
        "id": "OtciPvY6IEQV",
        "outputId": "79d4ce9c-0afc-432f-a6f7-99f9673a81c1"
      },
      "outputs": [],
      "source": [
        "# Descriptive Statistics\n",
        "print(\"\\nDescriptive Statistics:\")\n",
        "print(df.describe())\n",
        "\n"
      ]
    },
    {
      "cell_type": "code",
      "execution_count": null,
      "metadata": {
        "colab": {
          "base_uri": "https://localhost:8080/"
        },
        "id": "z2rct8OBICtt",
        "outputId": "72b281d5-1121-4ef0-e3b4-651fda8f1103"
      },
      "outputs": [],
      "source": [
        "# Central Tendency Measures\n",
        "print(\"\\nMeasures of Central Tendency:\")\n",
        "for column in df.select_dtypes(include=[np.number]).columns:\n",
        "    mean_value = df[column].mean()\n",
        "    median_value = df[column].median()\n",
        "    mode_value = df[column].mode()[0]\n",
        "    print(f\"{column} - Mean: {mean_value:.2f}, Median: {median_value:.2f}, Mode: {mode_value:.2f}\")\n",
        "\n"
      ]
    },
    {
      "cell_type": "code",
      "execution_count": null,
      "metadata": {
        "colab": {
          "base_uri": "https://localhost:8080/",
          "height": 674
        },
        "id": "qLUIZZSyIAqd",
        "outputId": "ef8a6ef0-f184-46b9-d6ab-1955c5cd8355"
      },
      "outputs": [],
      "source": [
        "# Data Visualization\n",
        "plt.figure(figsize=(12, 6))\n",
        "sns.heatmap(df.corr(), annot=True, cmap='coolwarm', fmt='.2f')\n",
        "plt.title('Feature Correlation Heatmap')\n",
        "plt.show()\n",
        "\n",
        "\n",
        "\n"
      ]
    },
    {
      "cell_type": "code",
      "execution_count": null,
      "metadata": {
        "colab": {
          "base_uri": "https://localhost:8080/",
          "height": 487
        },
        "id": "r9tEaG7eH_XM",
        "outputId": "914ea503-d9d5-4ded-a199-ec5f4f55f000"
      },
      "outputs": [],
      "source": [
        "# Histogram of Energy Consumption\n",
        "plt.figure(figsize=(10, 5))\n",
        "sns.histplot(df.iloc[:, -1], kde=True, bins=30)\n",
        "plt.title('Distribution of Energy Consumption')\n",
        "plt.xlabel('Energy Consumption')\n",
        "plt.ylabel('Frequency')\n",
        "plt.show()"
      ]
    },
    {
      "cell_type": "code",
      "execution_count": null,
      "metadata": {
        "colab": {
          "base_uri": "https://localhost:8080/",
          "height": 674
        },
        "id": "OjpzKvUlH-Ql",
        "outputId": "e897e37c-4b46-491d-fc22-5d0d82bba3d9"
      },
      "outputs": [],
      "source": [
        "# Identifying Outliers using Boxplots\n",
        "plt.figure(figsize=(12, 6))\n",
        "df.boxplot(rot=90)\n",
        "plt.title('Boxplot for Outlier Detection')\n",
        "plt.show()\n",
        "\n"
      ]
    },
    {
      "cell_type": "code",
      "execution_count": null,
      "metadata": {
        "colab": {
          "base_uri": "https://localhost:8080/"
        },
        "id": "nrmza0acH8_t",
        "outputId": "504a8ed2-8acd-4ded-f3ef-6ee345ee5007"
      },
      "outputs": [],
      "source": [
        "# Regression Analysis\n",
        "\n",
        "X = df.iloc[:, :-2]  # Independent variables (excluding energy targets)\n",
        "y = df.iloc[:, -2]   # Dependent variable (energy heating load)\n",
        "X = sm.add_constant(X)  # Add intercept\n",
        "model = sm.OLS(y, X).fit()\n",
        "print(model.summary())\n",
        "\n"
      ]
    },
    {
      "cell_type": "code",
      "execution_count": null,
      "metadata": {
        "colab": {
          "base_uri": "https://localhost:8080/"
        },
        "id": "bT9tNYAfH7OF",
        "outputId": "cc36f289-dca5-47f9-9441-c16110eafd31"
      },
      "outputs": [],
      "source": [
        "# Feature Importance using Random Forest\n",
        "from sklearn.ensemble import RandomForestRegressor\n",
        "X = df.iloc[:, :-2]\n",
        "y = df.iloc[:, -2]\n",
        "model = RandomForestRegressor(n_estimators=100, random_state=42)\n",
        "model.fit(X, y)\n",
        "feature_importance = pd.Series(model.feature_importances_, index=X.columns).sort_values(ascending=False)\n",
        "print(\"\\nFeature Importance:\")\n",
        "print(feature_importance)\n",
        "\n"
      ]
    },
    {
      "cell_type": "code",
      "execution_count": null,
      "metadata": {
        "colab": {
          "base_uri": "https://localhost:8080/",
          "height": 693
        },
        "id": "26My_4udH5o9",
        "outputId": "600eb0c7-89ef-42e8-e9a4-81332afc4d6d"
      },
      "outputs": [],
      "source": [
        "# Plot Feature Importance\n",
        "plt.figure(figsize=(10, 6))\n",
        "feature_importance.plot(kind='bar', color='skyblue')\n",
        "plt.title('Feature Importance for Energy Efficiency')\n",
        "plt.xlabel('Features')\n",
        "plt.ylabel('Importance Score')\n",
        "plt.show()\n",
        "\n"
      ]
    },
    {
      "cell_type": "code",
      "execution_count": 28,
      "metadata": {
        "id": "KLgZNpZgH0U9"
      },
      "outputs": [],
      "source": [
        "\n",
        "# Optimization Proposal\n",
        "improvement_suggestions = {\n",
        "    \"Compactness\": \"Increase compactness to reduce heat loss.\",\n",
        "    \"Wall Area\": \"Optimize insulation material to reduce energy leakage.\",\n",
        "    \"Roof Area\": \"Implement energy-reflective roofing.\",\n",
        "    \"Glazing Area\": \"Use triple-glazed windows for better insulation.\"\n",
        "}\n"
      ]
    },
    {
      "cell_type": "code",
      "execution_count": null,
      "metadata": {
        "colab": {
          "base_uri": "https://localhost:8080/"
        },
        "id": "IZISaMu7HxeO",
        "outputId": "2e74923e-be02-4f5a-f064-65c48adb9e61"
      },
      "outputs": [],
      "source": [
        "print(\"\\nDesign Improvement Suggestions:\")\n",
        "for key, value in improvement_suggestions.items():\n",
        "    print(f\"- {key}: {value}\")\n"
      ]
    }
  ],
  "metadata": {
    "colab": {
      "provenance": []
    },
    "kernelspec": {
      "display_name": "Python 3",
      "name": "python3"
    },
    "language_info": {
      "name": "python"
    }
  },
  "nbformat": 4,
  "nbformat_minor": 0
}
